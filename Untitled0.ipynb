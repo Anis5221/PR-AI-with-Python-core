{
  "nbformat": 4,
  "nbformat_minor": 0,
  "metadata": {
    "colab": {
      "name": "Untitled0.ipynb",
      "provenance": [],
      "collapsed_sections": [],
      "include_colab_link": true
    },
    "kernelspec": {
      "name": "python3",
      "display_name": "Python 3"
    }
  },
  "cells": [
    {
      "cell_type": "markdown",
      "metadata": {
        "id": "view-in-github",
        "colab_type": "text"
      },
      "source": [
        "<a href=\"https://colab.research.google.com/github/Anis5221/PR-AI-with-Python-core/blob/main/Untitled0.ipynb\" target=\"_parent\"><img src=\"https://colab.research.google.com/assets/colab-badge.svg\" alt=\"Open In Colab\"/></a>"
      ]
    },
    {
      "cell_type": "code",
      "metadata": {
        "id": "b5WWEwk-7YdZ",
        "colab": {
          "base_uri": "https://localhost:8080/",
          "height": 34
        },
        "outputId": "2cd461cd-877e-441b-e1c5-68c9a18f6855"
      },
      "source": [
        "i = '5'\n",
        "print(int(i))"
      ],
      "execution_count": null,
      "outputs": [
        {
          "output_type": "stream",
          "text": [
            "5\n"
          ],
          "name": "stdout"
        }
      ]
    },
    {
      "cell_type": "code",
      "metadata": {
        "id": "AQquJeMyujmV",
        "colab": {
          "base_uri": "https://localhost:8080/",
          "height": 265
        },
        "outputId": "748bf41b-6308-4732-c406-7b4a8b12aa77"
      },
      "source": [
        "str1 = input().lower()\n",
        "lenth1 = len(str1)\n",
        "str2 = input().lower()\n",
        "lenth2 = len(str2)\n",
        "def compare(a,b):\n",
        "  for i in range (0, len(a)):\n",
        "    if(a[i]==b[i]):\n",
        "      return 0\n",
        "    elif(a[i]>b[i]):\n",
        "      return 1\n",
        "    elif(a[i]<b[i]):\n",
        "      return -1\n",
        "\n",
        "val = strcasecmp(str1,str2)\n",
        "if(val >0):\n",
        "  print(\"1\")\n",
        "elif (val<0):\n",
        "  print(\"-1\")\n"
      ],
      "execution_count": null,
      "outputs": [
        {
          "output_type": "stream",
          "text": [
            "aaaa\n",
            "aaaA\n"
          ],
          "name": "stdout"
        },
        {
          "output_type": "error",
          "ename": "NameError",
          "evalue": "ignored",
          "traceback": [
            "\u001b[0;31m---------------------------------------------------------------------------\u001b[0m",
            "\u001b[0;31mNameError\u001b[0m                                 Traceback (most recent call last)",
            "\u001b[0;32m<ipython-input-5-087563c8705b>\u001b[0m in \u001b[0;36m<module>\u001b[0;34m()\u001b[0m\n\u001b[1;32m     12\u001b[0m       \u001b[0;32mreturn\u001b[0m \u001b[0;34m-\u001b[0m\u001b[0;36m1\u001b[0m\u001b[0;34m\u001b[0m\u001b[0;34m\u001b[0m\u001b[0m\n\u001b[1;32m     13\u001b[0m \u001b[0;34m\u001b[0m\u001b[0m\n\u001b[0;32m---> 14\u001b[0;31m \u001b[0mval\u001b[0m \u001b[0;34m=\u001b[0m \u001b[0mstrcasecmp\u001b[0m\u001b[0;34m(\u001b[0m\u001b[0mstr1\u001b[0m\u001b[0;34m,\u001b[0m\u001b[0mstr2\u001b[0m\u001b[0;34m)\u001b[0m\u001b[0;34m\u001b[0m\u001b[0;34m\u001b[0m\u001b[0m\n\u001b[0m\u001b[1;32m     15\u001b[0m \u001b[0;32mif\u001b[0m\u001b[0;34m(\u001b[0m\u001b[0mval\u001b[0m \u001b[0;34m>\u001b[0m\u001b[0;36m0\u001b[0m\u001b[0;34m)\u001b[0m\u001b[0;34m:\u001b[0m\u001b[0;34m\u001b[0m\u001b[0;34m\u001b[0m\u001b[0m\n\u001b[1;32m     16\u001b[0m   \u001b[0mprint\u001b[0m\u001b[0;34m(\u001b[0m\u001b[0;34m\"1\"\u001b[0m\u001b[0;34m)\u001b[0m\u001b[0;34m\u001b[0m\u001b[0;34m\u001b[0m\u001b[0m\n",
            "\u001b[0;31mNameError\u001b[0m: name 'strcasecmp' is not defined"
          ]
        }
      ]
    },
    {
      "cell_type": "code",
      "metadata": {
        "id": "8dnHBC8N-7cj",
        "colab": {
          "base_uri": "https://localhost:8080/",
          "height": 231
        },
        "outputId": "061ea25f-3681-4b09-945d-47f74a9be16a"
      },
      "source": [
        "class Person: \n",
        "  def __init__(self, name, age\n",
        "    self.name = name\n",
        "    self.age = age\n",
        "\n",
        "  def details(self):\n",
        "    print(self.name, self.age, sep =\" age: \")\n",
        "\n",
        "parson_list = []\n",
        "for i in range(0,3):\n",
        "  parson = Person(\"Anis\" +str(i), \"20\"+i)\n",
        "  parson_list += [parson]\n",
        "\n",
        "for i in parson_list:\n",
        "  i.details()\n"
      ],
      "execution_count": null,
      "outputs": [
        {
          "output_type": "error",
          "ename": "TypeError",
          "evalue": "ignored",
          "traceback": [
            "\u001b[0;31m---------------------------------------------------------------------------\u001b[0m",
            "\u001b[0;31mTypeError\u001b[0m                                 Traceback (most recent call last)",
            "\u001b[0;32m<ipython-input-2-d9e2f7b4fa91>\u001b[0m in \u001b[0;36m<module>\u001b[0;34m()\u001b[0m\n\u001b[1;32m      9\u001b[0m \u001b[0mparson_list\u001b[0m \u001b[0;34m=\u001b[0m \u001b[0;34m[\u001b[0m\u001b[0;34m]\u001b[0m\u001b[0;34m\u001b[0m\u001b[0;34m\u001b[0m\u001b[0m\n\u001b[1;32m     10\u001b[0m \u001b[0;32mfor\u001b[0m \u001b[0mi\u001b[0m \u001b[0;32min\u001b[0m \u001b[0mrange\u001b[0m\u001b[0;34m(\u001b[0m\u001b[0;36m0\u001b[0m\u001b[0;34m,\u001b[0m\u001b[0;36m3\u001b[0m\u001b[0;34m)\u001b[0m\u001b[0;34m:\u001b[0m\u001b[0;34m\u001b[0m\u001b[0;34m\u001b[0m\u001b[0m\n\u001b[0;32m---> 11\u001b[0;31m   \u001b[0mparson\u001b[0m \u001b[0;34m=\u001b[0m \u001b[0mPerson\u001b[0m\u001b[0;34m(\u001b[0m\u001b[0;34m\"Anis\"\u001b[0m \u001b[0;34m+\u001b[0m\u001b[0mstr\u001b[0m\u001b[0;34m(\u001b[0m\u001b[0mi\u001b[0m\u001b[0;34m)\u001b[0m\u001b[0;34m,\u001b[0m \u001b[0;34m\"20\"\u001b[0m\u001b[0;34m+\u001b[0m\u001b[0mi\u001b[0m\u001b[0;34m)\u001b[0m\u001b[0;34m\u001b[0m\u001b[0;34m\u001b[0m\u001b[0m\n\u001b[0m\u001b[1;32m     12\u001b[0m   \u001b[0mparson_list\u001b[0m \u001b[0;34m+=\u001b[0m \u001b[0;34m[\u001b[0m\u001b[0mparson\u001b[0m\u001b[0;34m]\u001b[0m\u001b[0;34m\u001b[0m\u001b[0;34m\u001b[0m\u001b[0m\n\u001b[1;32m     13\u001b[0m \u001b[0;34m\u001b[0m\u001b[0m\n",
            "\u001b[0;31mTypeError\u001b[0m: must be str, not int"
          ]
        }
      ]
    },
    {
      "cell_type": "code",
      "metadata": {
        "id": "KtValYLP--Se"
      },
      "source": [
        ""
      ],
      "execution_count": null,
      "outputs": []
    },
    {
      "cell_type": "code",
      "metadata": {
        "id": "z0TO4rLyvX9P",
        "colab": {
          "base_uri": "https://localhost:8080/",
          "height": 68
        },
        "outputId": "812e4af2-4763-460e-bc74-44144da6c86c"
      },
      "source": [
        "class Anis:\n",
        "  def __init__(self, name, age):\n",
        "    self.name = name\n",
        "    self.age =  age\n",
        "\n",
        "  def details(self):\n",
        "    print(self.name, self.age, sep=\" age: \")\n",
        "\n",
        "anis_list = []\n",
        "for x in range(0,3):\n",
        "  anis = Anis(\"Anis\" +str(x), 20+x)\n",
        "  anis_list += [anis]\n",
        "for x in anis_list:\n",
        "  x.details()"
      ],
      "execution_count": null,
      "outputs": [
        {
          "output_type": "stream",
          "text": [
            "Anis0 age: 20\n",
            "Anis1 age: 21\n",
            "Anis2 age: 22\n"
          ],
          "name": "stdout"
        }
      ]
    },
    {
      "cell_type": "code",
      "metadata": {
        "id": "27XJch8vncxu",
        "colab": {
          "base_uri": "https://localhost:8080/",
          "height": 68
        },
        "outputId": "e0f355c0-0080-4e38-ef08-1007860bf42c"
      },
      "source": [
        "class Person:\n",
        "  def __init__(self,name,age):\n",
        "    self.name = name\n",
        "    self.age = age\n",
        "  def details(self):\n",
        "    print(self.name, self.age, sep=\" age: \")\n",
        "\n",
        "people_list = []\n",
        "for x in range(0,3):\n",
        "  person = Person(\"Person\"+str(x), 20+x)\n",
        "  people_list +=[person]\n",
        "for x in people_list:\n",
        "  x.details()"
      ],
      "execution_count": null,
      "outputs": [
        {
          "output_type": "stream",
          "text": [
            "Person0 age: 20\n",
            "Person1 age: 21\n",
            "Person2 age: 22\n"
          ],
          "name": "stdout"
        }
      ]
    },
    {
      "cell_type": "code",
      "metadata": {
        "id": "wnYdwRxZPf0Q",
        "colab": {
          "base_uri": "https://localhost:8080/",
          "height": 68
        },
        "outputId": "5ed41f79-6f9c-4e8c-9f56-400c41e6de0b"
      },
      "source": [
        "class A: \n",
        "  def cat(self):\n",
        "      print(\"this is super class!!\")\n",
        "class B(A):\n",
        "  j = int()\n",
        "  \n",
        "  def cat(self):\n",
        "    print(\"This is subclass!!!\")\n",
        "    super().cat()\n",
        "ob = B();\n",
        "ob.cat()\n",
        "ob.i = \" super argument !!!\"\n",
        "print(ob.i)j"
      ],
      "execution_count": null,
      "outputs": [
        {
          "output_type": "stream",
          "text": [
            "This is subclass!!!\n",
            "this is super class!!\n",
            " super argument !!!\n"
          ],
          "name": "stdout"
        }
      ]
    },
    {
      "cell_type": "code",
      "metadata": {
        "id": "tXpKTp-lLO6I",
        "colab": {
          "base_uri": "https://localhost:8080/",
          "height": 51
        },
        "outputId": "d2b9e1dd-d312-4b3d-961e-a938a4a084d7"
      },
      "source": [
        "try:\n",
        "  n = 10\n",
        "  m = 0\n",
        "  print(n/m)\n",
        "  print(\"Done Aalculation\\n\")\n",
        "except ZeroDivisionError:\n",
        "  print(\"An error Accured!!\")\n",
        "  print(\"due to zero divition error!!!\")\n",
        "except (ValueError, TypeError):\n",
        "  print(\"Error accured!!\")"
      ],
      "execution_count": null,
      "outputs": [
        {
          "output_type": "stream",
          "text": [
            "An error Accured!!\n",
            "due to zero divition error!!!\n"
          ],
          "name": "stdout"
        }
      ]
    },
    {
      "cell_type": "code",
      "metadata": {
        "id": "FYX6g7tK3sD_"
      },
      "source": [
        "class A:\n",
        " \n",
        "  def __init__(self,name,id):\n",
        "      self.name = name\n",
        "      self.id = id\n",
        "      display()\n",
        "      \n",
        "  def display(self,name,id):\n",
        "      return name,id\n",
        "    \n",
        "class B(A):\n",
        "  def dog(self):\n",
        "    print(\"OOwo this is me!!!\")\n",
        "    \n",
        "class C(B):\n",
        "  def cat(self):\n",
        "    print(\"another i'm in this class ooho!!!\")\n",
        "    \n",
        "  def cat_hend(self,name,id):\n",
        "    return name,id\n",
        "       \n",
        "\n",
        "ob = C(\"Anis\",45644)\n",
        "ob.cat()\n",
        "ob.dog()\n",
        "ob.cat_hend(\"I'm in\",45646)\n",
        "name = input()\n",
        "id = input()\n",
        "ob.display(name,id)"
      ],
      "execution_count": null,
      "outputs": []
    },
    {
      "cell_type": "code",
      "metadata": {
        "id": "vJl5AsKQEqGd"
      },
      "source": [
        "while \"true\":\n",
        "  x = input('Enter a cherecter: ')\n",
        "  if x == \"s\":\n",
        "    n = float(input())\n",
        "    m = float(input())\n",
        "    sum = float(n+m)\n",
        "    print(sum)\n",
        "  \n",
        "  elif x == \"q\":\n",
        "    break\n",
        "  elif x == \"m\":\n",
        "    n = float(input())\n",
        "    m = float(input())\n",
        "    m = float(n*m)\n",
        "    print(m)\n",
        "   \n",
        "  elif x == \"d\":\n",
        "    n = float(input())\n",
        "    m = float(input())\n",
        "    d = float(n/m)\n",
        "    print(d)\n",
        "  elif x == \"su\":\n",
        "    n = float(input())\n",
        "    m = float(input())\n",
        "    su = float(n*m)\n",
        "    print(su)\n",
        "    "
      ],
      "execution_count": null,
      "outputs": []
    }
  ]
}