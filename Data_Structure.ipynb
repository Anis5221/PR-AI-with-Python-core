{
  "nbformat": 4,
  "nbformat_minor": 0,
  "metadata": {
    "colab": {
      "name": "Data Structure.ipynb",
      "provenance": [],
      "authorship_tag": "ABX9TyNrpyhCLUFh2aC32J6DY9F6",
      "include_colab_link": true
    },
    "kernelspec": {
      "name": "python3",
      "display_name": "Python 3"
    },
    "language_info": {
      "name": "python"
    }
  },
  "cells": [
    {
      "cell_type": "markdown",
      "metadata": {
        "id": "view-in-github",
        "colab_type": "text"
      },
      "source": [
        "<a href=\"https://colab.research.google.com/github/Anis5221/PR-AI-with-Python-core/blob/main/Data_Structure.ipynb\" target=\"_parent\"><img src=\"https://colab.research.google.com/assets/colab-badge.svg\" alt=\"Open In Colab\"/></a>"
      ]
    },
    {
      "cell_type": "code",
      "metadata": {
        "colab": {
          "base_uri": "https://localhost:8080/"
        },
        "id": "qMqKraTgGT7M",
        "outputId": "980d7f77-f2ae-404e-d0d1-ce9271d8151b"
      },
      "source": [
        "class Node:\n",
        "  def __init__(self, value):\n",
        "    self.next = None\n",
        "    self.prev = None\n",
        "    self.val = value\n",
        "\n",
        "\n",
        "class DoubleLinkedList: \n",
        "  def __init__(self):\n",
        "    self.head = None\n",
        "    self.tail = None\n",
        "    self.size = 0\n",
        "\n",
        "  def add(self, value):\n",
        "    node = Node(value)\n",
        "    if self.tail is None:\n",
        "      self.head = node\n",
        "      self.tail = node\n",
        "      self.size += 1\n",
        "    else: \n",
        "      self.tail.next = node\n",
        "      node.prev = self.tail\n",
        "      self.tail = node\n",
        "      self.size +=1\n",
        "  \n",
        "  def __remove__node(self, node):\n",
        "    if node.prev is None:\n",
        "      self.head = node.next\n",
        "    else:\n",
        "      node.prev.next = node.next\n",
        "\n",
        "    if node.next is None:\n",
        "      self.tail = node.prev\n",
        "    else:\n",
        "      node.next.prev = node.prev\n",
        "\n",
        "  def remove(self, value):\n",
        "    node = self.head\n",
        "    while node is not None:\n",
        "      if node.val == value:\n",
        "        self.__remove__node(node)\n",
        "      node = node.next\n",
        "\n",
        "  \n",
        "  def __str__(self):\n",
        "    mList = []\n",
        "    node = self.head\n",
        "    while node is not None:\n",
        "      mList.append(node.val)\n",
        "      node = node.next\n",
        "    return f\"[{', '.join(str(val) for val in mList)}]\"\n",
        "\n",
        "\n",
        "\n",
        "myList = DoubleLinkedList()\n",
        "myList.add(1)\n",
        "myList.add(2)\n",
        "myList.add(2)\n",
        "myList.add(2)\n",
        "myList.add(1)\n",
        "myList.add(1)\n",
        "myList.add(1)\n",
        "myList.add(1)\n",
        "myList.add(2)\n",
        "myList.add(2)\n",
        "myList.add(2)\n",
        "myList.add(5)\n",
        "myList.remove(2)\n",
        "print(myList)\n"
      ],
      "execution_count": 13,
      "outputs": [
        {
          "output_type": "stream",
          "text": [
            "[1, 1, 1, 1, 1, 5]\n"
          ],
          "name": "stdout"
        }
      ]
    }
  ]
}