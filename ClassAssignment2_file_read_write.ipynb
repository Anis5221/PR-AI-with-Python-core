{
  "nbformat": 4,
  "nbformat_minor": 0,
  "metadata": {
    "colab": {
      "name": "ClassAssignment2-file_read_write.ipynb",
      "provenance": [],
      "authorship_tag": "ABX9TyP3EpXFhEVTZy5KnbapRVDV",
      "include_colab_link": true
    },
    "kernelspec": {
      "name": "python3",
      "display_name": "Python 3"
    },
    "language_info": {
      "name": "python"
    }
  },
  "cells": [
    {
      "cell_type": "markdown",
      "metadata": {
        "id": "view-in-github",
        "colab_type": "text"
      },
      "source": [
        "<a href=\"https://colab.research.google.com/github/Anis5221/PR-AI-with-Python-core/blob/main/ClassAssignment2_file_read_write.ipynb\" target=\"_parent\"><img src=\"https://colab.research.google.com/assets/colab-badge.svg\" alt=\"Open In Colab\"/></a>"
      ]
    },
    {
      "cell_type": "code",
      "metadata": {
        "colab": {
          "base_uri": "https://localhost:8080/"
        },
        "id": "_u5P4bvlMARp",
        "outputId": "d693cfb5-55dc-4dbe-edce-d5d0773bf1de"
      },
      "source": [
        "import numpy as np\n",
        "import matplotlib.pyplot as plt\n",
        "import pandas as pd\n",
        "import re\n",
        "file = open(\"doc.txt\", \"r\")\n",
        "text = file.read()\n",
        "finalText = text.translate ({ord(c): \" \" for c in \"!@#$%^&*()[]{};:,./<>?\\|`~-=_+\"})\n",
        "count = 0\n",
        "srWrod = input()\n",
        "result = finalText.split(\" \")\n",
        "for word in result:\n",
        "  if word.lower() == srWrod.lower():\n",
        "    count +=1;\n",
        "print(count)"
      ],
      "execution_count": 34,
      "outputs": [
        {
          "output_type": "stream",
          "text": [
            "python\n",
            "3\n"
          ],
          "name": "stdout"
        }
      ]
    },
    {
      "cell_type": "code",
      "metadata": {
        "colab": {
          "base_uri": "https://localhost:8080/"
        },
        "id": "Eom4YwB1bHV1",
        "outputId": "d141b84e-9d44-4edf-aec7-a0ae4d445e29"
      },
      "source": [
        "import pandas as pd\n",
        "import matplotlib.pyplot as plt\n",
        "file = pd.read_csv(\"Doc.csv\")\n",
        "x = file.iloc[:, [0]].values\n",
        "y = file.iloc[[0], :].values\n",
        "print(y)"
      ],
      "execution_count": 44,
      "outputs": [
        {
          "output_type": "stream",
          "text": [
            "[['Samsang' 25 26 22 21 23.0]]\n"
          ],
          "name": "stdout"
        }
      ]
    }
  ]
}